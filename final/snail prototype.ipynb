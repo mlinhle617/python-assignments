{
 "cells": [
  {
   "cell_type": "code",
   "execution_count": null,
   "metadata": {},
   "outputs": [],
   "source": [
    "## The code runs in Cinema 4D but doesn't run in Jupyter notebook"
   ]
  },
  {
   "cell_type": "code",
   "execution_count": null,
   "metadata": {},
   "outputs": [],
   "source": [
    "import c4d\n",
    "\n",
    "def main():\n",
    "    if frame == 1:\n",
    "        #Create an empty list to hold the points to connect\n",
    "        points = []\n",
    "\n",
    "        #Add points to the list\n",
    "        points.append(vector1)\n",
    "        points.append(vector2)\n",
    "\n",
    "        #Create linear splines from every 2 points\n",
    "        spline = c4d.SplineObject(2, c4d.SPLINETYPE_LINEAR)\n",
    "\n",
    "        #Pass the list to the SplineObject's SetAllPoints method\n",
    "        spline.SetAllPoints(points)\n",
    "\n",
    "        #Insert the splines into the scene\n",
    "        spline.InsertUnder(snail_geometry)\n",
    "\n",
    "        #Notify c4d that the geometry has changed\n",
    "        c4d.EventAdd()"
   ]
  }
 ],
 "metadata": {
  "kernelspec": {
   "display_name": "Python 3",
   "language": "python",
   "name": "python3"
  },
  "language_info": {
   "codemirror_mode": {
    "name": "ipython",
    "version": 3
   },
   "file_extension": ".py",
   "mimetype": "text/x-python",
   "name": "python",
   "nbconvert_exporter": "python",
   "pygments_lexer": "ipython3",
   "version": "3.7.6"
  }
 },
 "nbformat": 4,
 "nbformat_minor": 4
}
