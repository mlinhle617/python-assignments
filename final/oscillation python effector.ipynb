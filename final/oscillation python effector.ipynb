{
 "cells": [
  {
   "cell_type": "code",
   "execution_count": null,
   "metadata": {},
   "outputs": [],
   "source": [
    "## The code runs in Cinema 4D but doesn't run in Jupyter notebook"
   ]
  },
  {
   "cell_type": "code",
   "execution_count": null,
   "metadata": {},
   "outputs": [],
   "source": [
    "import c4d\n",
    "from c4d.modules import mograph as mo\n",
    "import math\n",
    "\n",
    "def main():\n",
    "    #Get all data inside cloner\n",
    "    md = mo.GeGetMoData(op)\n",
    "    #Get current frame\n",
    "    frame = doc.GetTime().GetFrame(doc.GetFps())\n",
    "    #If there's no mograph data, do nothing\n",
    "    if md==None: return False\n",
    "    #Count all clones\n",
    "    cnt = md.GetCount()\n",
    "    #Get clones matrix array\n",
    "    marr = md.GetArray(c4d.MODATA_MATRIX)\n",
    "    fall = md.GetFalloffs()\n",
    "    \n",
    "    for i in reversed(xrange(0, cnt)):\n",
    "        #first oscillator\n",
    "        osc = math.sin( i + frame *.1 ) * 100\n",
    "        #second oscillator\n",
    "        subOsc = math.sin( i + frame *.08 )\n",
    "        #make circles using polar co-ordinates\n",
    "        osc2 = math.cos( i + frame *.1 ) * 100\n",
    "        marr[i].off = marr[i].off+fall[i] * c4d.Vector(osc * subOsc ,osc2,osc) * 0.1\n",
    "\n",
    "    md.SetArray(c4d.MODATA_MATRIX, marr, True)\n",
    "    return True"
   ]
  }
 ],
 "metadata": {
  "kernelspec": {
   "display_name": "Python 3",
   "language": "python",
   "name": "python3"
  },
  "language_info": {
   "codemirror_mode": {
    "name": "ipython",
    "version": 3
   },
   "file_extension": ".py",
   "mimetype": "text/x-python",
   "name": "python",
   "nbconvert_exporter": "python",
   "pygments_lexer": "ipython3",
   "version": "3.7.6"
  }
 },
 "nbformat": 4,
 "nbformat_minor": 4
}
